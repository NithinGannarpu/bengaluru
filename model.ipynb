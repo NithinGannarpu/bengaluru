{
 "cells": [
  {
   "cell_type": "markdown",
   "metadata": {},
   "source": [
    "importing libraries"
   ]
  },
  {
   "cell_type": "code",
   "execution_count": 1,
   "metadata": {},
   "outputs": [
    {
     "name": "stderr",
     "output_type": "stream",
     "text": [
      "\n",
      "Bad key \"text.kerning_factor\" on line 4 in\n",
      "C:\\Users\\brigu\\Anaconda3\\envs\\tf\\lib\\site-packages\\matplotlib\\mpl-data\\stylelib\\_classic_test_patch.mplstyle.\n",
      "You probably need to get an updated matplotlibrc file from\n",
      "https://github.com/matplotlib/matplotlib/blob/v3.1.3/matplotlibrc.template\n",
      "or from the matplotlib source distribution\n"
     ]
    }
   ],
   "source": [
    "import pandas as pd\n",
    "import numpy as np\n",
    "import matplotlib.pyplot as plt\n",
    "import matplotlib\n",
    "matplotlib.rcParams[\"figure.figsize\"] = (20,10)"
   ]
  },
  {
   "cell_type": "markdown",
   "metadata": {},
   "source": [
    "importing the dataset"
   ]
  },
  {
   "cell_type": "code",
   "execution_count": 2,
   "metadata": {},
   "outputs": [
    {
     "name": "stdout",
     "output_type": "stream",
     "text": [
      "              area_type   availability                  location       size  \\\n",
      "0  Super built-up  Area         19-Dec  Electronic City Phase II      2 BHK   \n",
      "1            Plot  Area  Ready To Move          Chikka Tirupathi  4 Bedroom   \n",
      "2        Built-up  Area  Ready To Move               Uttarahalli      3 BHK   \n",
      "3  Super built-up  Area  Ready To Move        Lingadheeranahalli      3 BHK   \n",
      "4  Super built-up  Area  Ready To Move                  Kothanur      2 BHK   \n",
      "5  Super built-up  Area  Ready To Move                Whitefield      2 BHK   \n",
      "6  Super built-up  Area         18-May          Old Airport Road      4 BHK   \n",
      "7  Super built-up  Area  Ready To Move              Rajaji Nagar      4 BHK   \n",
      "8  Super built-up  Area  Ready To Move              Marathahalli      3 BHK   \n",
      "9            Plot  Area  Ready To Move              Gandhi Bazar  6 Bedroom   \n",
      "\n",
      "   society total_sqft  bath  balcony   price  \n",
      "0  Coomee        1056   2.0      1.0   39.07  \n",
      "1  Theanmp       2600   5.0      3.0  120.00  \n",
      "2      NaN       1440   2.0      3.0   62.00  \n",
      "3  Soiewre       1521   3.0      1.0   95.00  \n",
      "4      NaN       1200   2.0      1.0   51.00  \n",
      "5  DuenaTa       1170   2.0      1.0   38.00  \n",
      "6  Jaades        2732   4.0      NaN  204.00  \n",
      "7  Brway G       3300   4.0      NaN  600.00  \n",
      "8      NaN       1310   3.0      1.0   63.25  \n",
      "9      NaN       1020   6.0      NaN  370.00  \n",
      "(13320, 9)\n"
     ]
    }
   ],
   "source": [
    "dataset = pd.read_csv('.\\dataset\\Bengaluru_House_Data.csv')\n",
    "print(dataset.head(10))\n",
    "print(dataset.shape)"
   ]
  },
  {
   "cell_type": "markdown",
   "metadata": {},
   "source": [
    "Data preprocessing<br>\n",
    " getting the count of area type in the dataset"
   ]
  },
  {
   "cell_type": "code",
   "execution_count": 3,
   "metadata": {},
   "outputs": [
    {
     "name": "stdout",
     "output_type": "stream",
     "text": [
      "area_type\n",
      "Built-up  Area          2418\n",
      "Carpet  Area              87\n",
      "Plot  Area              2025\n",
      "Super built-up  Area    8790\n",
      "Name: area_type, dtype: int64\n"
     ]
    }
   ],
   "source": [
    "print(dataset.groupby('area_type')['area_type'].agg('count'))"
   ]
  },
  {
   "cell_type": "markdown",
   "metadata": {},
   "source": [
    " droping unnecessary columns"
   ]
  },
  {
   "cell_type": "code",
   "execution_count": 4,
   "metadata": {},
   "outputs": [
    {
     "name": "stdout",
     "output_type": "stream",
     "text": [
      "(13320, 5)\n"
     ]
    }
   ],
   "source": [
    "dataset.drop(['area_type','society','availability','balcony'], axis='columns', inplace=True)\n",
    "print(dataset.shape)"
   ]
  },
  {
   "cell_type": "markdown",
   "metadata": {},
   "source": [
    " data cleaning"
   ]
  },
  {
   "cell_type": "code",
   "execution_count": 5,
   "metadata": {},
   "outputs": [
    {
     "name": "stdout",
     "output_type": "stream",
     "text": [
      "location       1\n",
      "size          16\n",
      "total_sqft     0\n",
      "bath          73\n",
      "price          0\n",
      "dtype: int64\n",
      "(13246, 5)\n"
     ]
    }
   ],
   "source": [
    "print(dataset.isnull().sum())\n",
    "dataset.dropna(inplace=True)\n",
    "print(dataset.shape)"
   ]
  },
  {
   "cell_type": "markdown",
   "metadata": {},
   "source": [
    "# data engineering"
   ]
  },
  {
   "cell_type": "code",
   "execution_count": 6,
   "metadata": {},
   "outputs": [
    {
     "name": "stdout",
     "output_type": "stream",
     "text": [
      "['2 BHK' '4 Bedroom' '3 BHK' '4 BHK' '6 Bedroom' '3 Bedroom' '1 BHK'\n",
      " '1 RK' '1 Bedroom' '8 Bedroom' '2 Bedroom' '7 Bedroom' '5 BHK' '7 BHK'\n",
      " '6 BHK' '5 Bedroom' '11 BHK' '9 BHK' '9 Bedroom' '27 BHK' '10 Bedroom'\n",
      " '11 Bedroom' '10 BHK' '19 BHK' '16 BHK' '43 Bedroom' '14 BHK' '8 BHK'\n",
      " '12 Bedroom' '13 BHK' '18 Bedroom']\n"
     ]
    }
   ],
   "source": [
    "print(dataset['size'].unique())\n",
    "dataset['bhk'] = dataset['size'].apply(lambda x: float(x.split(' ')[0]))"
   ]
  },
  {
   "cell_type": "markdown",
   "metadata": {},
   "source": [
    "# exploring 'total_sqft' column"
   ]
  },
  {
   "cell_type": "code",
   "execution_count": 7,
   "metadata": {},
   "outputs": [
    {
     "name": "stdout",
     "output_type": "stream",
     "text": [
      "['1056' '2600' '1440' ... '1133 - 1384' '774' '4689']\n"
     ]
    }
   ],
   "source": [
    "print(dataset['total_sqft'].unique())"
   ]
  },
  {
   "cell_type": "markdown",
   "metadata": {},
   "source": [
    "## defining a function to check whether the value is float or not"
   ]
  },
  {
   "cell_type": "code",
   "execution_count": 8,
   "metadata": {},
   "outputs": [],
   "source": [
    "def is_float(x):\n",
    "    try:\n",
    "        float(x)\n",
    "    except :\n",
    "        return False\n",
    "    return True"
   ]
  },
  {
   "cell_type": "code",
   "execution_count": 9,
   "metadata": {},
   "outputs": [
    {
     "name": "stdout",
     "output_type": "stream",
     "text": [
      "               location       size      total_sqft  bath    price  bhk\n",
      "30            Yelahanka      4 BHK     2100 - 2850   4.0  186.000  4.0\n",
      "122              Hebbal      4 BHK     3067 - 8156   4.0  477.000  4.0\n",
      "137  8th Phase JP Nagar      2 BHK     1042 - 1105   2.0   54.005  2.0\n",
      "165            Sarjapur      2 BHK     1145 - 1340   2.0   43.490  2.0\n",
      "188            KR Puram      2 BHK     1015 - 1540   2.0   56.800  2.0\n",
      "410             Kengeri      1 BHK  34.46Sq. Meter   1.0   18.500  1.0\n",
      "549         Hennur Road      2 BHK     1195 - 1440   2.0   63.770  2.0\n",
      "648             Arekere  9 Bedroom       4125Perch   9.0  265.000  9.0\n",
      "661           Yelahanka      2 BHK     1120 - 1145   2.0   48.130  2.0\n",
      "672        Bettahalsoor  4 Bedroom     3090 - 5002   4.0  445.000  4.0\n"
     ]
    }
   ],
   "source": [
    "print(dataset[~dataset['total_sqft'].apply(is_float)].head(10))"
   ]
  },
  {
   "cell_type": "markdown",
   "metadata": {},
   "source": [
    "## defining a function to convert the range of column values to a single value"
   ]
  },
  {
   "cell_type": "code",
   "execution_count": 10,
   "metadata": {},
   "outputs": [
    {
     "name": "stdout",
     "output_type": "stream",
     "text": [
      "290.0\n",
      "2475.0\n",
      "None\n"
     ]
    }
   ],
   "source": [
    "def convert_sqft_to_num(x):\n",
    "    tokens = x.split('-')\n",
    "    if len(tokens) == 2:\n",
    "        return (float(tokens[0]) + float(tokens[1]))/2\n",
    "    try:\n",
    "        return float(x)\n",
    "    except:\n",
    "        return None\n",
    "#### testing the function\n",
    "print(convert_sqft_to_num('290'))\n",
    "print(convert_sqft_to_num('2100 - 2850'))\n",
    "print(convert_sqft_to_num('4.46Sq. Meter'))"
   ]
  },
  {
   "cell_type": "markdown",
   "metadata": {},
   "source": [
    "## applying this function to the dataset"
   ]
  },
  {
   "cell_type": "code",
   "execution_count": 11,
   "metadata": {},
   "outputs": [
    {
     "name": "stdout",
     "output_type": "stream",
     "text": [
      "0    1056.0\n",
      "1    2600.0\n",
      "2    1440.0\n",
      "3    1521.0\n",
      "4    1200.0\n",
      "5    1170.0\n",
      "6    2732.0\n",
      "7    3300.0\n",
      "8    1310.0\n",
      "9    1020.0\n",
      "Name: total_sqft, dtype: float64\n",
      "location      Yelahanka\n",
      "size              4 BHK\n",
      "total_sqft         2475\n",
      "bath                  4\n",
      "price               186\n",
      "bhk                   4\n",
      "Name: 30, dtype: object\n"
     ]
    }
   ],
   "source": [
    "dataset['total_sqft'] = dataset['total_sqft'].apply(convert_sqft_to_num)\n",
    "print(dataset['total_sqft'].head(10))\n",
    "print(dataset.loc[30])"
   ]
  },
  {
   "cell_type": "markdown",
   "metadata": {},
   "source": [
    " feature engineering"
   ]
  },
  {
   "cell_type": "code",
   "execution_count": 12,
   "metadata": {},
   "outputs": [
    {
     "name": "stdout",
     "output_type": "stream",
     "text": [
      "                   location       size  total_sqft  bath   price  bhk\n",
      "0  Electronic City Phase II      2 BHK      1056.0   2.0   39.07  2.0\n",
      "1          Chikka Tirupathi  4 Bedroom      2600.0   5.0  120.00  4.0\n",
      "2               Uttarahalli      3 BHK      1440.0   2.0   62.00  3.0\n",
      "3        Lingadheeranahalli      3 BHK      1521.0   3.0   95.00  3.0\n",
      "4                  Kothanur      2 BHK      1200.0   2.0   51.00  2.0\n",
      "5                Whitefield      2 BHK      1170.0   2.0   38.00  2.0\n",
      "6          Old Airport Road      4 BHK      2732.0   4.0  204.00  4.0\n",
      "7              Rajaji Nagar      4 BHK      3300.0   4.0  600.00  4.0\n",
      "8              Marathahalli      3 BHK      1310.0   3.0   63.25  3.0\n",
      "9              Gandhi Bazar  6 Bedroom      1020.0   6.0  370.00  6.0\n"
     ]
    }
   ],
   "source": [
    "print(dataset.head(10))"
   ]
  },
  {
   "cell_type": "markdown",
   "metadata": {},
   "source": [
    "# creating new colomn 'price_per_sqft' as we know<br>\n",
    "# in real estate market, price per sqft matters alot. "
   ]
  },
  {
   "cell_type": "code",
   "execution_count": 13,
   "metadata": {},
   "outputs": [
    {
     "name": "stdout",
     "output_type": "stream",
     "text": [
      "0         3699.810606\n",
      "1         4615.384615\n",
      "2         4305.555556\n",
      "3         6245.890861\n",
      "4         4250.000000\n",
      "             ...     \n",
      "13315     6689.834926\n",
      "13316    11111.111111\n",
      "13317     5258.545136\n",
      "13318    10407.336319\n",
      "13319     3090.909091\n",
      "Name: price_per_sqft, Length: 13246, dtype: float64\n"
     ]
    }
   ],
   "source": [
    "dataset['price_per_sqft'] = dataset['price']*100000/dataset['total_sqft']\n",
    "print(dataset['price_per_sqft'])"
   ]
  },
  {
   "cell_type": "markdown",
   "metadata": {},
   "source": [
    "# exploring 'location' column"
   ]
  },
  {
   "cell_type": "code",
   "execution_count": 14,
   "metadata": {},
   "outputs": [
    {
     "name": "stdout",
     "output_type": "stream",
     "text": [
      "1304\n"
     ]
    }
   ],
   "source": [
    "print(len(dataset['location'].unique()))"
   ]
  },
  {
   "cell_type": "code",
   "execution_count": 15,
   "metadata": {},
   "outputs": [],
   "source": [
    "dataset['location'] = dataset['location'].apply(lambda x: x.strip())"
   ]
  },
  {
   "cell_type": "code",
   "execution_count": 16,
   "metadata": {},
   "outputs": [
    {
     "name": "stdout",
     "output_type": "stream",
     "text": [
      "location\n",
      "Whitefield               535\n",
      "Sarjapur  Road           392\n",
      "Electronic City          304\n",
      "Kanakpura Road           266\n",
      "Thanisandra              236\n",
      "Yelahanka                210\n",
      "Uttarahalli              186\n",
      "Hebbal                   176\n",
      "Marathahalli             175\n",
      "Raja Rajeshwari Nagar    171\n",
      "Name: location, dtype: int64\n"
     ]
    }
   ],
   "source": [
    "location_stats = dataset.groupby('location')['location'].agg('count').sort_values(ascending=False)\n",
    "print(location_stats[0:10])"
   ]
  },
  {
   "cell_type": "markdown",
   "metadata": {},
   "source": [
    "## creating 'location_stats' to get the location with total count or occurance <br>\n",
    "## occurance, and 'location_stats_less_than_10' to get the location with <= 10 <br>\n",
    "## occurance"
   ]
  },
  {
   "cell_type": "code",
   "execution_count": 17,
   "metadata": {},
   "outputs": [
    {
     "name": "stdout",
     "output_type": "stream",
     "text": [
      "1052\n",
      "location\n",
      "BTM 1st Stage          10\n",
      "Basapura               10\n",
      "Sector 1 HSR Layout    10\n",
      "Naganathapura          10\n",
      "Kalkere                10\n",
      "                       ..\n",
      "LIC Colony              1\n",
      "Kuvempu Layout          1\n",
      "Kumbhena Agrahara       1\n",
      "Kudlu Village,          1\n",
      "1 Annasandrapalya       1\n",
      "Name: location, Length: 1052, dtype: int64\n"
     ]
    }
   ],
   "source": [
    "print(len(location_stats[location_stats <= 10]))\n",
    "location_stats_less_than_10 = location_stats[location_stats <= 10]\n",
    "print(location_stats_less_than_10)"
   ]
  },
  {
   "cell_type": "markdown",
   "metadata": {},
   "source": [
    "## redefining the 'location' column as 'other' value where location count<br>\n",
    "## is <= 10"
   ]
  },
  {
   "cell_type": "code",
   "execution_count": 18,
   "metadata": {},
   "outputs": [
    {
     "name": "stdout",
     "output_type": "stream",
     "text": [
      "0    Electronic City Phase II\n",
      "1            Chikka Tirupathi\n",
      "2                 Uttarahalli\n",
      "3          Lingadheeranahalli\n",
      "4                    Kothanur\n",
      "5                  Whitefield\n",
      "6            Old Airport Road\n",
      "7                Rajaji Nagar\n",
      "8                Marathahalli\n",
      "9                       other\n",
      "Name: location, dtype: object\n",
      "242\n"
     ]
    }
   ],
   "source": [
    "dataset['location'] = dataset['location'].apply(lambda x: 'other' if x in location_stats_less_than_10 else x)\n",
    "print(dataset['location'].head(10))\n",
    "print(len(dataset['location'].unique()))"
   ]
  },
  {
   "cell_type": "markdown",
   "metadata": {},
   "source": [
    " Outlier detection and removal"
   ]
  },
  {
   "cell_type": "markdown",
   "metadata": {},
   "source": [
    "# checking that 'total_sqft'/'bhk', if it's very less than there is some<br>\n",
    "# anomaly and we have to remove these outliers"
   ]
  },
  {
   "cell_type": "code",
   "execution_count": 19,
   "metadata": {},
   "outputs": [
    {
     "name": "stdout",
     "output_type": "stream",
     "text": [
      "                 location       size  total_sqft  bath  price  bhk  \\\n",
      "4086       Sarjapur  Road  4 Bedroom         1.0   4.0  120.0  4.0   \n",
      "4972                other      7 BHK         5.0   7.0  115.0  7.0   \n",
      "349                 other  3 Bedroom        11.0   3.0   74.0  3.0   \n",
      "1020                other      1 BHK        15.0   1.0   30.0  1.0   \n",
      "1122                other  5 Bedroom        24.0   2.0  150.0  5.0   \n",
      "5970          Mysore Road  1 Bedroom        45.0   1.0   23.0  1.0   \n",
      "11558          Whitefield  4 Bedroom        60.0   4.0  218.0  4.0   \n",
      "13216               other      1 BHK       250.0   2.0   40.0  1.0   \n",
      "119           Hennur Road  2 Bedroom       276.0   3.0   23.0  2.0   \n",
      "10526  Yelahanka New Town      1 BHK       284.0   1.0    8.0  1.0   \n",
      "\n",
      "       price_per_sqft  \n",
      "4086     1.200000e+07  \n",
      "4972     2.300000e+06  \n",
      "349      6.727273e+05  \n",
      "1020     2.000000e+05  \n",
      "1122     6.250000e+05  \n",
      "5970     5.111111e+04  \n",
      "11558    3.633333e+05  \n",
      "13216    1.600000e+04  \n",
      "119      8.333333e+03  \n",
      "10526    2.816901e+03  \n",
      "(13246, 7)\n"
     ]
    }
   ],
   "source": [
    "print(dataset[dataset['total_sqft'] / dataset['bhk'] < 300].sort_values(by='total_sqft').head(10))\n",
    "print(dataset.shape)"
   ]
  },
  {
   "cell_type": "code",
   "execution_count": 20,
   "metadata": {},
   "outputs": [
    {
     "name": "stdout",
     "output_type": "stream",
     "text": [
      "(12502, 7)\n"
     ]
    }
   ],
   "source": [
    "dataset = dataset[~(dataset['total_sqft'] / dataset['bhk'] < 300)]\n",
    "print(dataset.shape)"
   ]
  },
  {
   "cell_type": "markdown",
   "metadata": {},
   "source": [
    "# checking columns where 'price_per_sqft' is very low<br>\n",
    "# where it should not be that low, so it's an anomaly and <br>\n",
    "# we have to remove those rows"
   ]
  },
  {
   "cell_type": "code",
   "execution_count": 21,
   "metadata": {},
   "outputs": [
    {
     "name": "stdout",
     "output_type": "stream",
     "text": [
      "count     12456.000000\n",
      "mean       6308.502826\n",
      "std        4168.127339\n",
      "min         267.829813\n",
      "25%        4210.526316\n",
      "50%        5294.117647\n",
      "75%        6916.666667\n",
      "max      176470.588235\n",
      "Name: price_per_sqft, dtype: float64\n"
     ]
    }
   ],
   "source": [
    "print(dataset['price_per_sqft'].describe())"
   ]
  },
  {
   "cell_type": "markdown",
   "metadata": {},
   "source": [
    "# function to remove these extreme cases of very high or low values<br>\n",
    "# of 'price_per_sqft' based on std()"
   ]
  },
  {
   "cell_type": "code",
   "execution_count": 22,
   "metadata": {},
   "outputs": [],
   "source": [
    "def remove_pps_outliers(df):\n",
    "    df_out = pd.DataFrame()\n",
    "    for key, subdf in df.groupby('location'):\n",
    "        mean = np.mean(subdf['price_per_sqft'])\n",
    "        std = np.std(subdf['price_per_sqft'])\n",
    "        reduced_df = subdf[(subdf['price_per_sqft'] > (mean - std)) & (subdf['price_per_sqft'] <= (mean + std))]\n",
    "        df_out = pd.concat([df_out, reduced_df], ignore_index=True)\n",
    "    return df_out"
   ]
  },
  {
   "cell_type": "code",
   "execution_count": 23,
   "metadata": {},
   "outputs": [
    {
     "name": "stdout",
     "output_type": "stream",
     "text": [
      "(10241, 7)\n"
     ]
    }
   ],
   "source": [
    "dataset = remove_pps_outliers(dataset)\n",
    "print(dataset.shape)"
   ]
  },
  {
   "cell_type": "markdown",
   "metadata": {},
   "source": [
    "# plotting graoh where we can visualize that properties with same location<br>\n",
    "# and the price of 3 bhk properties with higher 'total_sqft' is less than <br>\n",
    "# 2 bhk properties with lower 'total_sqft'"
   ]
  },
  {
   "cell_type": "code",
   "execution_count": 24,
   "metadata": {},
   "outputs": [],
   "source": [
    "def plot_scatter_chart(df,location):\n",
    "    bhk2 = df[(df['location'] == location) & (df['bhk'] == 2)]\n",
    "    bhk3 = df[(df['location'] == location) & (df['bhk'] == 3)]\n",
    "    matplotlib.rcParams['figure.figsize'] = (15,10)\n",
    "    plt.scatter(bhk2['total_sqft'], \n",
    "                bhk2['price'], \n",
    "                color='blue', \n",
    "                label='2 BHK', \n",
    "                s=50\n",
    "                )\n",
    "    plt.scatter(bhk3['total_sqft'], \n",
    "                bhk3['price'], \n",
    "                marker='+',\n",
    "                color='green', \n",
    "                label='3 BHK', \n",
    "                s=50\n",
    "                )\n",
    "    plt.xlabel('Total Square Feet Area')\n",
    "    plt.ylabel('Price')\n",
    "    plt.title(location)\n",
    "    plt.legend()\n",
    "    plt.show()"
   ]
  },
  {
   "cell_type": "code",
   "execution_count": 25,
   "metadata": {},
   "outputs": [
    {
     "data": {
      "image/png": "[encoded data removed]",
      "text/plain": [
       "<Figure size 1080x720 with 1 Axes>"
      ]
     },
     "metadata": {
      "needs_background": "light"
     },
     "output_type": "display_data"
    },
    {
     "data": {
      "image/png": "[encoded data removed]",
      "text/plain": [
       "<Figure size 1080x720 with 1 Axes>"
      ]
     },
     "metadata": {
      "needs_background": "light"
     },
     "output_type": "display_data"
    }
   ],
   "source": [
    "plot_scatter_chart(dataset,\"Hebbal\")\n",
    "plot_scatter_chart(dataset,\"Rajaji Nagar\")"
   ]
  },
  {
   "cell_type": "markdown",
   "metadata": {},
   "source": [
    "# defining a funcion where we can get the rows where 'bhk' & 'location'<br>\n",
    "# is same but the property with less 'bhk' have more price than the property<br>\n",
    "# which have more 'bhk'. So, it's also an anomalu and we have to remove these <br>\n",
    "# properties"
   ]
  },
  {
   "cell_type": "code",
   "execution_count": 26,
   "metadata": {},
   "outputs": [
    {
     "name": "stdout",
     "output_type": "stream",
     "text": [
      "(7329, 7)\n"
     ]
    }
   ],
   "source": [
    "def remove_bhk_outliers(df):\n",
    "    exclude_indices = np.array([])\n",
    "    for location, location_df in df.groupby('location'):\n",
    "        bhk_stats = {}\n",
    "        for bhk, bhk_df in location_df.groupby('bhk'):\n",
    "            bhk_stats[bhk] = {\n",
    "                    'mean': np.mean(bhk_df['price_per_sqft']),\n",
    "                    'std': np.std(bhk_df['price_per_sqft']),\n",
    "                    'count': bhk_df.shape[0]\n",
    "                }\n",
    "        for bhk, bhk_df in location_df.groupby('bhk'):\n",
    "            stats = bhk_stats.get(bhk-1)\n",
    "            if stats and stats['count'] > 5:\n",
    "                exclude_indices = np.append(exclude_indices, bhk_df[bhk_df['price_per_sqft'] < (stats['mean'])].index.values)\n",
    "    return df.drop(exclude_indices, axis='index')\n",
    "        \n",
    "dataset = remove_bhk_outliers(dataset)\n",
    "print(dataset.shape)\n",
    "            \n",
    "def plot_scatter_chart(df,location):\n",
    "    bhk2 = df[(df['location'] == location) & (df['bhk'] == 2)]\n",
    "    bhk3 = df[(df['location'] == location) & (df['bhk'] == 3)]\n",
    "    matplotlib.rcParams['figure.figsize'] = (15,10)\n",
    "    plt.scatter(bhk2['total_sqft'], \n",
    "                bhk2['price'], \n",
    "                color='blue', \n",
    "                label='2 BHK', \n",
    "                s=50\n",
    "                )\n",
    "    plt.scatter(bhk3['total_sqft'], \n",
    "                bhk3['price'], \n",
    "                marker='+',\n",
    "                color='green', \n",
    "                label='3 BHK', \n",
    "                s=50\n",
    "                )\n",
    "    plt.xlabel('Total Square Feet Area')\n",
    "    plt.ylabel('Price')\n",
    "    plt.title(location)\n",
    "    plt.legend()\n",
    "    plt.show()"
   ]
  },
  {
   "cell_type": "code",
   "execution_count": 27,
   "metadata": {},
   "outputs": [
    {
     "data": {
      "image/png": "[encoded data removed]",
      "text/plain": [
       "<Figure size 1080x720 with 1 Axes>"
      ]
     },
     "metadata": {
      "needs_background": "light"
     },
     "output_type": "display_data"
    },
    {
     "data": {
      "image/png": "[encoded data removed]",
      "text/plain": [
       "<Figure size 1080x720 with 1 Axes>"
      ]
     },
     "metadata": {
      "needs_background": "light"
     },
     "output_type": "display_data"
    }
   ],
   "source": [
    "plot_scatter_chart(dataset,\"Hebbal\")\n",
    "plot_scatter_chart(dataset,\"Rajaji Nagar\")"
   ]
  },
  {
   "cell_type": "markdown",
   "metadata": {},
   "source": [
    "# histogram for properties per sqaure feet area"
   ]
  },
  {
   "cell_type": "code",
   "execution_count": 28,
   "metadata": {},
   "outputs": [
    {
     "data": {
      "image/png": "[encoded data removed]",
      "text/plain": [
       "<Figure size 1440x720 with 1 Axes>"
      ]
     },
     "metadata": {
      "needs_background": "light"
     },
     "output_type": "display_data"
    }
   ],
   "source": [
    "matplotlib.rcParams['figure.figsize'] = (20,10)\n",
    "plt.hist(dataset['price_per_sqft'], rwidth=0.8)\n",
    "plt.xlabel('Price Per Square Feet')\n",
    "plt.ylabel('Count')\n",
    "plt.title('Histogram of Properties by Price Per Square Feet')\n",
    "plt.show()"
   ]
  },
  {
   "cell_type": "markdown",
   "metadata": {},
   "source": [
    "# exploring bathroom feature"
   ]
  },
  {
   "cell_type": "code",
   "execution_count": 29,
   "metadata": {},
   "outputs": [
    {
     "name": "stdout",
     "output_type": "stream",
     "text": [
      "[ 4.  3.  2.  5.  8.  1.  6.  7.  9. 12. 16. 13.]\n"
     ]
    }
   ],
   "source": [
    "print(dataset['bath'].unique())"
   ]
  },
  {
   "cell_type": "markdown",
   "metadata": {},
   "source": [
    "## having 10 bedrooms and bathroom > 10 is unusual<br>\n",
    "## so, we will remove these anomalies"
   ]
  },
  {
   "cell_type": "code",
   "execution_count": 30,
   "metadata": {},
   "outputs": [
    {
     "name": "stdout",
     "output_type": "stream",
     "text": [
      "            location    size  total_sqft  bath  price   bhk  price_per_sqft\n",
      "5277  Neeladri Nagar  10 BHK      4000.0  12.0  160.0  10.0     4000.000000\n",
      "8486           other  10 BHK     12000.0  12.0  525.0  10.0     4375.000000\n",
      "8575           other  16 BHK     10000.0  16.0  550.0  16.0     5500.000000\n",
      "9308           other  11 BHK      6000.0  12.0  150.0  11.0     2500.000000\n",
      "9639           other  13 BHK      5425.0  13.0  275.0  13.0     5069.124424\n"
     ]
    }
   ],
   "source": [
    "print(dataset[dataset['bath'] > 10])"
   ]
  },
  {
   "cell_type": "markdown",
   "metadata": {},
   "source": [
    "## plotting histogram of bathroom "
   ]
  },
  {
   "cell_type": "code",
   "execution_count": 31,
   "metadata": {},
   "outputs": [
    {
     "data": {
      "image/png": "[encoded data removed]",
      "text/plain": [
       "<Figure size 1440x720 with 1 Axes>"
      ]
     },
     "metadata": {
      "needs_background": "light"
     },
     "output_type": "display_data"
    }
   ],
   "source": [
    "plt.hist(dataset['bath'], rwidth=0.8, color='red')\n",
    "plt.xlabel('Number of Bathrooms')\n",
    "plt.ylabel('Count')\n",
    "plt.title('Histogram of Bathroom per Property')\n",
    "plt.show()"
   ]
  },
  {
   "cell_type": "code",
   "execution_count": 32,
   "metadata": {},
   "outputs": [
    {
     "name": "stdout",
     "output_type": "stream",
     "text": [
      "           location       size  total_sqft  bath   price  bhk  price_per_sqft\n",
      "1626  Chikkabanavar  4 Bedroom      2460.0   7.0    80.0  4.0     3252.032520\n",
      "5238     Nagasandra  4 Bedroom      7000.0   8.0   450.0  4.0     6428.571429\n",
      "6711    Thanisandra      3 BHK      1806.0   6.0   116.0  3.0     6423.034330\n",
      "8411          other      6 BHK     11338.0   9.0  1000.0  6.0     8819.897689\n",
      "(7251, 7)\n"
     ]
    }
   ],
   "source": [
    "print(dataset[dataset['bath'] > dataset['bhk'] + 2])\n",
    "dataset = dataset[dataset['bath'] < dataset['bhk'] + 2]\n",
    "print(dataset.shape)"
   ]
  },
  {
   "cell_type": "markdown",
   "metadata": {},
   "source": [
    "# after removing outliers, dropping unwanted features"
   ]
  },
  {
   "cell_type": "code",
   "execution_count": 33,
   "metadata": {},
   "outputs": [
    {
     "name": "stdout",
     "output_type": "stream",
     "text": [
      "              location  total_sqft  bath  price  bhk\n",
      "0  1st Block Jayanagar      2850.0   4.0  428.0  4.0\n",
      "1  1st Block Jayanagar      1630.0   3.0  194.0  3.0\n",
      "2  1st Block Jayanagar      1875.0   2.0  235.0  3.0\n",
      "3  1st Block Jayanagar      1200.0   2.0  130.0  3.0\n",
      "4  1st Block Jayanagar      1235.0   2.0  148.0  2.0\n"
     ]
    }
   ],
   "source": [
    "dataset.drop(['size','price_per_sqft'], axis='columns', inplace=True)\n",
    "print(dataset.head())"
   ]
  },
  {
   "cell_type": "markdown",
   "metadata": {},
   "source": [
    " one hot encoding the 'location' column"
   ]
  },
  {
   "cell_type": "code",
   "execution_count": 34,
   "metadata": {},
   "outputs": [
    {
     "name": "stdout",
     "output_type": "stream",
     "text": [
      "   1st Block Jayanagar  1st Phase JP Nagar  2nd Phase Judicial Layout  \\\n",
      "0                    1                   0                          0   \n",
      "1                    1                   0                          0   \n",
      "2                    1                   0                          0   \n",
      "3                    1                   0                          0   \n",
      "4                    1                   0                          0   \n",
      "\n",
      "   2nd Stage Nagarbhavi  5th Block Hbr Layout  5th Phase JP Nagar  \\\n",
      "0                     0                     0                   0   \n",
      "1                     0                     0                   0   \n",
      "2                     0                     0                   0   \n",
      "3                     0                     0                   0   \n",
      "4                     0                     0                   0   \n",
      "\n",
      "   6th Phase JP Nagar  7th Phase JP Nagar  8th Phase JP Nagar  \\\n",
      "0                   0                   0                   0   \n",
      "1                   0                   0                   0   \n",
      "2                   0                   0                   0   \n",
      "3                   0                   0                   0   \n",
      "4                   0                   0                   0   \n",
      "\n",
      "   9th Phase JP Nagar  ...  Vishveshwarya Layout  Vishwapriya Layout  \\\n",
      "0                   0  ...                     0                   0   \n",
      "1                   0  ...                     0                   0   \n",
      "2                   0  ...                     0                   0   \n",
      "3                   0  ...                     0                   0   \n",
      "4                   0  ...                     0                   0   \n",
      "\n",
      "   Vittasandra  Whitefield  Yelachenahalli  Yelahanka  Yelahanka New Town  \\\n",
      "0            0           0               0          0                   0   \n",
      "1            0           0               0          0                   0   \n",
      "2            0           0               0          0                   0   \n",
      "3            0           0               0          0                   0   \n",
      "4            0           0               0          0                   0   \n",
      "\n",
      "   Yelenahalli  Yeshwanthpur  other  \n",
      "0            0             0      0  \n",
      "1            0             0      0  \n",
      "2            0             0      0  \n",
      "3            0             0      0  \n",
      "4            0             0      0  \n",
      "\n",
      "[5 rows x 242 columns]\n"
     ]
    }
   ],
   "source": [
    "dummies = pd.get_dummies(dataset['location'])\n",
    "print(dummies.head())"
   ]
  },
  {
   "cell_type": "code",
   "execution_count": 35,
   "metadata": {},
   "outputs": [
    {
     "name": "stdout",
     "output_type": "stream",
     "text": [
      "   total_sqft  bath  price  bhk  1st Block Jayanagar  1st Phase JP Nagar  \\\n",
      "0      2850.0   4.0  428.0  4.0                    1                   0   \n",
      "1      1630.0   3.0  194.0  3.0                    1                   0   \n",
      "2      1875.0   2.0  235.0  3.0                    1                   0   \n",
      "3      1200.0   2.0  130.0  3.0                    1                   0   \n",
      "4      1235.0   2.0  148.0  2.0                    1                   0   \n",
      "\n",
      "   2nd Phase Judicial Layout  2nd Stage Nagarbhavi  5th Block Hbr Layout  \\\n",
      "0                          0                     0                     0   \n",
      "1                          0                     0                     0   \n",
      "2                          0                     0                     0   \n",
      "3                          0                     0                     0   \n",
      "4                          0                     0                     0   \n",
      "\n",
      "   5th Phase JP Nagar  ...  Vijayanagar  Vishveshwarya Layout  \\\n",
      "0                   0  ...            0                     0   \n",
      "1                   0  ...            0                     0   \n",
      "2                   0  ...            0                     0   \n",
      "3                   0  ...            0                     0   \n",
      "4                   0  ...            0                     0   \n",
      "\n",
      "   Vishwapriya Layout  Vittasandra  Whitefield  Yelachenahalli  Yelahanka  \\\n",
      "0                   0            0           0               0          0   \n",
      "1                   0            0           0               0          0   \n",
      "2                   0            0           0               0          0   \n",
      "3                   0            0           0               0          0   \n",
      "4                   0            0           0               0          0   \n",
      "\n",
      "   Yelahanka New Town  Yelenahalli  Yeshwanthpur  \n",
      "0                   0            0             0  \n",
      "1                   0            0             0  \n",
      "2                   0            0             0  \n",
      "3                   0            0             0  \n",
      "4                   0            0             0  \n",
      "\n",
      "[5 rows x 245 columns]\n",
      "(7251, 245)\n"
     ]
    }
   ],
   "source": [
    "dataset = pd.concat([dataset,dummies.drop('other', axis='columns')], axis='columns')\n",
    "dataset.drop('location', axis=1, inplace=True)\n",
    "print(dataset.head())\n",
    "print(dataset.shape)"
   ]
  },
  {
   "cell_type": "markdown",
   "metadata": {},
   "source": [
    " distributing independent features in 'X' and dependent feature in 'y'"
   ]
  },
  {
   "cell_type": "code",
   "execution_count": 36,
   "metadata": {},
   "outputs": [
    {
     "name": "stdout",
     "output_type": "stream",
     "text": [
      "(7251, 244)\n",
      "(7251,)\n"
     ]
    }
   ],
   "source": [
    "X = dataset.drop(['price'],axis= 'columns')\n",
    "y = dataset['price']\n",
    "print(X.shape)\n",
    "print(y.shape)"
   ]
  },
  {
   "cell_type": "markdown",
   "metadata": {},
   "source": [
    " splitting the dataset into training set and test set"
   ]
  },
  {
   "cell_type": "code",
   "execution_count": 37,
   "metadata": {},
   "outputs": [],
   "source": [
    "from sklearn.model_selection import train_test_split\n",
    "X_train,X_test,y_train,y_test = train_test_split(X,y,test_size=0.2,random_state=10)"
   ]
  },
  {
   "cell_type": "markdown",
   "metadata": {},
   "source": [
    " training  the model"
   ]
  },
  {
   "cell_type": "code",
   "execution_count": 38,
   "metadata": {},
   "outputs": [
    {
     "name": "stdout",
     "output_type": "stream",
     "text": [
      "0.8452277697874312\n"
     ]
    }
   ],
   "source": [
    "from sklearn.linear_model import LinearRegression\n",
    "regressor = LinearRegression()\n",
    "regressor.fit(X_train,y_train)\n",
    "print(regressor.score(X_test,y_test))"
   ]
  },
  {
   "cell_type": "markdown",
   "metadata": {},
   "source": [
    " k-fold cross validation"
   ]
  },
  {
   "cell_type": "code",
   "execution_count": 39,
   "metadata": {},
   "outputs": [
    {
     "data": {
      "text/plain": [
       "array([0.82430186, 0.77166234, 0.85089567, 0.80837764, 0.83653286])"
      ]
     },
     "execution_count": 39,
     "metadata": {},
     "output_type": "execute_result"
    }
   ],
   "source": [
    "from sklearn.model_selection import ShuffleSplit, cross_val_score\n",
    "cv = ShuffleSplit(n_splits=5, test_size = 0.2, random_state=0)\n",
    "cross_val_score(regressor,X,y,cv=cv)"
   ]
  },
  {
   "cell_type": "markdown",
   "metadata": {},
   "source": [
    " grid search, hyper parameter tuning"
   ]
  },
  {
   "cell_type": "code",
   "execution_count": 40,
   "metadata": {},
   "outputs": [],
   "source": [
    "from sklearn.model_selection import GridSearchCV\n",
    "from sklearn.linear_model import Lasso\n",
    "from sklearn.tree import DecisionTreeRegressor"
   ]
  },
  {
   "cell_type": "code",
   "execution_count": 41,
   "metadata": {},
   "outputs": [
    {
     "name": "stdout",
     "output_type": "stream",
     "text": [
      "               model  best_score  \\\n",
      "0  linear_regression    0.818354   \n",
      "1              lasso    0.687453   \n",
      "2      decision_tree    0.722519   \n",
      "\n",
      "                                         best_params  \n",
      "0                                {'normalize': True}  \n",
      "1                {'alpha': 1, 'selection': 'random'}  \n",
      "2  {'criterion': 'friedman_mse', 'splitter': 'best'}  \n"
     ]
    }
   ],
   "source": [
    "def find_best_model_using_gridsearch(X,y):\n",
    "    algos = {\n",
    "        'linear_regression': {\n",
    "            'model': LinearRegression(),\n",
    "            'params': { 'normalize': [True, False]}\n",
    "            },\n",
    "        'lasso': {\n",
    "            'model': Lasso(),\n",
    "            'params': {\n",
    "                'alpha': [1,2],\n",
    "                'selection': ['random','cyclic']\n",
    "                }\n",
    "            },\n",
    "        'decision_tree':{\n",
    "            'model': DecisionTreeRegressor(),\n",
    "            'params': {\n",
    "                'criterion': ['mse','friedman_mse'],\n",
    "                'splitter': ['best','random']\n",
    "                }\n",
    "            }\n",
    "        }\n",
    "    scores = []\n",
    "    cv = ShuffleSplit(n_splits=5,test_size=0.2,random_state=0)\n",
    "    for algo_name,config in algos.items():\n",
    "        gs = GridSearchCV(config['model'],\n",
    "                          config['params'],\n",
    "                          cv=cv,\n",
    "                          n_jobs=-1,\n",
    "                          return_train_score=False\n",
    "                          )\n",
    "        gs.fit(X,y)\n",
    "        scores.append({\n",
    "            'model': algo_name,\n",
    "            'best_score': gs.best_score_,\n",
    "            'best_params': gs.best_params_\n",
    "            })\n",
    "    return pd.DataFrame(scores,columns=['model','best_score','best_params'])\n",
    "model_scores = find_best_model_using_gridsearch(X,y)\n",
    "print(model_scores)"
   ]
  },
  {
   "cell_type": "markdown",
   "metadata": {},
   "source": [
    "# so after running grid search, linear regression model have the best score<br>\n",
    "# so i will use linear regression model on the whole dataset"
   ]
  },
  {
   "cell_type": "code",
   "execution_count": 42,
   "metadata": {},
   "outputs": [
    {
     "data": {
      "text/plain": [
       "LinearRegression(copy_X=True, fit_intercept=True, n_jobs=None, normalize=False)"
      ]
     },
     "execution_count": 42,
     "metadata": {},
     "output_type": "execute_result"
    }
   ],
   "source": [
    "from sklearn.linear_model import LinearRegression\n",
    "regressor = LinearRegression()\n",
    "regressor.fit(X,y)"
   ]
  },
  {
   "cell_type": "markdown",
   "metadata": {},
   "source": [
    " evaluating the model"
   ]
  },
  {
   "cell_type": "code",
   "execution_count": 43,
   "metadata": {},
   "outputs": [],
   "source": [
    "def predict_price(location,sqft,bath,bhk):\n",
    "    loc_index = np.where(X.columns == location)[0][0]\n",
    "    \n",
    "    x = np.zeros(len(X.columns))\n",
    "    x[0] = sqft\n",
    "    x[1] = bath\n",
    "    x[2] = bhk\n",
    "    if loc_index >= 0:\n",
    "        x[loc_index] = 1\n",
    "    return regressor.predict([x])[0]"
   ]
  },
  {
   "cell_type": "code",
   "execution_count": 44,
   "metadata": {},
   "outputs": [
    {
     "name": "stdout",
     "output_type": "stream",
     "text": [
      "85.83901256841601\n",
      "87.76501220608625\n",
      "181.59488997129654\n"
     ]
    }
   ],
   "source": [
    "print(predict_price('1st Phase JP Nagar',1000,2,2))\n",
    "print(predict_price('1st Phase JP Nagar',1000,3,3))\n",
    "print(predict_price('Indira Nagar',1000,3,3))"
   ]
  },
  {
   "cell_type": "markdown",
   "metadata": {},
   "source": [
    "saving the model"
   ]
  },
  {
   "cell_type": "code",
   "execution_count": 45,
   "metadata": {},
   "outputs": [],
   "source": [
    "import pickle\n",
    "with open('bangalore_home_prices_model.pickle','wb') as f:\n",
    "    pickle.dump(regressor,f)"
   ]
  },
  {
   "cell_type": "markdown",
   "metadata": {},
   "source": [
    "exporting columns"
   ]
  },
  {
   "cell_type": "code",
   "execution_count": 46,
   "metadata": {},
   "outputs": [],
   "source": [
    "import json\n",
    "columns = {'data_columns': [col.lower() for col in X.columns]}\n",
    "with open(\"columns.json\",\"w\") as f:\n",
    "    f.write(json.dumps(columns))"
   ]
  }
 ],
 "metadata": {
  "kernelspec": {
   "display_name": "Python 3",
   "language": "python",
   "name": "python3"
  },
  "language_info": {
   "codemirror_mode": {
    "name": "ipython",
    "version": 3
   },
   "file_extension": ".py",
   "mimetype": "text/x-python",
   "name": "python",
   "nbconvert_exporter": "python",
   "pygments_lexer": "ipython3",
   "version": "3.7.7"
  }
 },
 "nbformat": 4,
 "nbformat_minor": 2
}
